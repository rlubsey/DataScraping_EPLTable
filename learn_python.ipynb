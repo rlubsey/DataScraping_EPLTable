{
 "cells": [
  {
   "cell_type": "code",
   "execution_count": 17,
   "metadata": {},
   "outputs": [],
   "source": [
    "#import libraries\n",
    "import pandas as pd\n",
    "import numpy as np\n",
    "import matplotlib as plt"
   ]
  },
  {
   "attachments": {},
   "cell_type": "markdown",
   "metadata": {},
   "source": [
    "Operations, Methods, and Functions\n",
    "\n",
    "String Methods, Operations, and Functions\n",
    "\n",
    ".upper()\n",
    "\n",
    ".lower()\n",
    "\n",
    ".split()\n",
    "\n",
    ".format()\n",
    "\n",
    ".isnumeric()\n",
    "\n",
    ".isalpha()\n",
    "\n",
    ".replace()\n",
    "\n",
    "string index [ ]\n",
    "\n",
    "len()\n",
    "\n",
    "List Operations and Methods\n",
    "\n",
    ".reverse()\n",
    "\n",
    ".extend()\n",
    "\n",
    ".insert()\n",
    "\n",
    ".append()\n",
    "\n",
    ".remove()\n",
    "\n",
    ".sort()\n",
    "\n",
    "list comprehensions [ ]\n",
    "\n",
    "list comprehensions [ ] with if condition\n",
    "\n",
    "Dictionary Operations and Methods\n",
    "\n",
    ".items()\n",
    "\n",
    ".update()\n",
    "\n",
    ".keys()\n",
    "\n",
    ".values()\n",
    "\n",
    ".copy()\n",
    "\n",
    "dictionary[key]\n",
    "\n",
    "dictionary[key] = value "
   ]
  },
  {
   "cell_type": "code",
   "execution_count": 34,
   "metadata": {},
   "outputs": [
    {
     "name": "stdout",
     "output_type": "stream",
     "text": [
      "ellohay owhay reaay ouyay\n"
     ]
    }
   ],
   "source": [
    "# language translation\n",
    "\n",
    "def pig_latin(text):\n",
    "  say = \"\"\n",
    "  words = text.lower().split()\n",
    "  newword = []\n",
    "  endletter = \"ay\"\n",
    "  for word in words:\n",
    "    newword.append(word[1::] + word[0] + endletter)\n",
    "  return' '.join(newword)\n",
    "\n",
    "print(pig_latin(\"hello how are you\"))\n"
   ]
  },
  {
   "cell_type": "code",
   "execution_count": 9,
   "metadata": {},
   "outputs": [
    {
     "name": "stdout",
     "output_type": "stream",
     "text": [
      "['clark.kent@gmail.com', 'diana.prince@gmail.com', 'peter.parker@gmail.com', 'barbara.gordon@yahoo.com', 'jean.grey@yahoo.com', 'bruce.wayne@hotmail.com']\n"
     ]
    }
   ],
   "source": [
    "#appending users and domains from dictionary\n",
    "def email_list(domains):\n",
    "    emails = []\n",
    "    for domain, users in domains.items():\n",
    "        for user in users:\n",
    "            email = user + \"@\" + domain\n",
    "            emails.append(email)\n",
    "    return emails\n",
    "\n",
    "print(email_list({\"gmail.com\": [\"clark.kent\", \"diana.prince\", \"peter.parker\"], \"yahoo.com\": [\"barbara.gordon\", \"jean.grey\"], \"hotmail.com\": [\"bruce.wayne\"]}))\n"
   ]
  },
  {
   "cell_type": "code",
   "execution_count": 13,
   "metadata": {},
   "outputs": [
    {
     "name": "stdout",
     "output_type": "stream",
     "text": [
      "{'admin': ['local', 'public', 'administrator'], 'userA': ['local'], 'userB': ['public']}\n"
     ]
    }
   ],
   "source": [
    "def groups_per_user(group_dictionary):\n",
    "\tuser_groups = {}\n",
    "\t# Go through group_dictionary\n",
    "\tfor group, users in group_dictionary.items():\n",
    "\t\t# Now go through the users in the group\n",
    "\t\tfor user in users:\n",
    "\t\t\tif user in user_groups:\n",
    "\t\t\t\tuser_groups[user].append(group)\n",
    "\t\t\telse:\n",
    "\t\t\t\tuser_groups[user] = [group]\n",
    "\n",
    "\treturn(user_groups)\n",
    "\n",
    "print(groups_per_user({\"local\": [\"admin\", \"userA\"],\n",
    "\t\t\"public\":  [\"admin\", \"userB\"],\n",
    "\t\t\"administrator\": [\"admin\"] }))"
   ]
  },
  {
   "cell_type": "code",
   "execution_count": 15,
   "metadata": {},
   "outputs": [
    {
     "name": "stdout",
     "output_type": "stream",
     "text": [
      "{'shirt': ['red', 'blue', 'white'], 'jeans': ['white'], 'scarf': ['yellow'], 'socks': ['black', 'brown']}\n"
     ]
    }
   ],
   "source": [
    "wardrobe = {'shirt': ['red', 'blue', 'white'], 'jeans': ['blue', 'black']}\n",
    "new_items = {'jeans': ['white'], 'scarf': ['yellow'], 'socks': ['black', 'brown']}\n",
    "wardrobe.update(new_items)\n",
    "print(wardrobe)"
   ]
  },
  {
   "cell_type": "code",
   "execution_count": 4,
   "metadata": {},
   "outputs": [
    {
     "name": "stdout",
     "output_type": "stream",
     "text": [
      "9\n"
     ]
    }
   ],
   "source": [
    "#return length of string \n",
    "def confirm_length(word):\n",
    "\n",
    "    # Complete the condition statement using a string operation. \n",
    "    if len(word) > 0:\n",
    "        # Complete the return statement using a string operation.\n",
    "        return len(word)\n",
    "    else:\n",
    "        return 0\n",
    "print(confirm_length(\"pineapple\"))"
   ]
  },
  {
   "cell_type": "code",
   "execution_count": null,
   "metadata": {},
   "outputs": [],
   "source": [
    "#iterating over a string\n",
    "my_string = \"Hello\"\n",
    "for x in my_string:\n",
    "    print(x)"
   ]
  },
  {
   "cell_type": "code",
   "execution_count": 29,
   "metadata": {},
   "outputs": [
    {
     "name": "stdout",
     "output_type": "stream",
     "text": [
      "17\n",
      "16\n",
      "21\n"
     ]
    }
   ],
   "source": [
    "#counting the number of alpha characters in a string\n",
    "def alpha_length(string):\n",
    "    character = \"\"\n",
    "    count_alpha = 0\n",
    "    # Complete the for loop sequence to iterate over \"string\".\n",
    "    for character in string: \n",
    "        # Complete the if-statement using a string method. \n",
    "        if character.isalpha():\n",
    "            count_alpha += 1  \n",
    "    return count_alpha\n",
    " \n",
    "print(alpha_length(\"This has 1 number in it\")) # Should print 17\n",
    "print(alpha_length(\"Thisisallletters\")) # Should print 16\n",
    "print(alpha_length(\"This one has punctuation!\")) # Should print 21"
   ]
  },
  {
   "cell_type": "code",
   "execution_count": 32,
   "metadata": {},
   "outputs": [
    {
     "name": "stdout",
     "output_type": "stream",
     "text": [
      "['Minna', 'Carol', 'Gunnar', 'Malena', 'Oakley', 'Jocelyn', 'Benjamin', 'Chika', 'Alma']\n"
     ]
    }
   ],
   "source": [
    "#combine list and reverse list\n",
    "def combine_lists(list1, list2):\n",
    "\n",
    "\n",
    "  combined_list = [] # Initialize an empty list variable\n",
    "  reverse_list = list1[::-1] # Reverse the order of \"list1\"\n",
    " \n",
    "  combined_list = list2 + reverse_list\n",
    "  return combined_list  \n",
    "  \n",
    "Jaimes_list = [\"Alma\", \"Chika\", \"Benjamin\", \"Jocelyn\", \"Oakley\"]\n",
    "Drews_list = [\"Minna\", \"Carol\", \"Gunnar\", \"Malena\"]\n",
    "\n",
    "\n",
    "print(combine_lists(Jaimes_list, Drews_list))\n",
    "# Should print ['Minna', 'Carol', 'Gunnar', 'Malena', 'Oakley', 'Jocelyn', 'Benjamin', 'Chika', 'Alma']\n"
   ]
  },
  {
   "cell_type": "code",
   "execution_count": 39,
   "metadata": {},
   "outputs": [
    {
     "name": "stdout",
     "output_type": "stream",
     "text": [
      "[4, 5]\n",
      "[3, 4, 5, 6, 7]\n",
      "[2, 3, 4, 5, 6, 7, 8, 9, 10, 11, 12]\n"
     ]
    }
   ],
   "source": [
    "def increments(start, end):\n",
    "    return [x+2 for x in range(start, end+1)] # Create the required list comprehension.\n",
    "\n",
    "\n",
    "print(increments(2, 3)) # Should print [4, 5]\n",
    "print(increments(1, 5)) # Should print [3, 4, 5, 6, 7]\n",
    "print(increments(0, 10)) # Should print [2, 3, 4, 5, 6, 7, 8, 9, 10, 11, 12]"
   ]
  },
  {
   "cell_type": "code",
   "execution_count": null,
   "metadata": {},
   "outputs": [],
   "source": [
    "genre = \"transcendental\"\n",
    "for char in genre:\n",
    "    print(char)\n",
    "print(genre[-8])"
   ]
  },
  {
   "cell_type": "code",
   "execution_count": 1,
   "metadata": {},
   "outputs": [
    {
     "name": "stdout",
     "output_type": "stream",
     "text": [
      "A Kia Soul costs 19000 dollars\n",
      "A Lamborghini Diablo costs 55000 dollars\n",
      "A Ford Fiesta costs 13000 dollars\n",
      "A Toyota Prius costs 24000 dollars\n",
      "\n"
     ]
    }
   ],
   "source": [
    "#concat elements, keys and values in a dictionary\n",
    "def car_listing(car_prices):\n",
    "  result = \"\"\n",
    "  # Complete the for loop to iterate through the key and value items \n",
    "  # in the dictionary.\n",
    "  for model, price in car_prices.items(): \n",
    "    \n",
    "    result += \"A {} costs {} dollars\\n\".format(model, price) # Use a string method to format the required string. \n",
    "  return result\n",
    "\n",
    "print(car_listing({\"Kia Soul\":19000, \"Lamborghini Diablo\":55000, \"Ford Fiesta\":13000, \"Toyota Prius\":24000}))\n",
    "\n"
   ]
  },
  {
   "cell_type": "code",
   "execution_count": 62,
   "metadata": {},
   "outputs": [
    {
     "name": "stdout",
     "output_type": "stream",
     "text": [
      "{'Adam': 0, 'Camila': 0, 'David': 0, 'Jamal': 0, 'Charley': 0, 'Titus': 0, 'Raj': 0, 'Noemi': 0, 'Sakira': 0, 'Chidi': 0}\n"
     ]
    }
   ],
   "source": [
    "#update and replace values in a dictionary\n",
    "\n",
    "def setup_guests(guest_list):\n",
    "    # loop over the guest list and add each guest to the dictionary with\n",
    "    # an initial value of 0\n",
    "    result = {} # Initialize a new dictionary \n",
    "    for guest  in guest_list: # Iterate over the elements in the list \n",
    "        result[guest] = 0 # Add each list element to the dictionary as a key with \n",
    "            # the starting value of 0\n",
    "    return result\n",
    "\n",
    "guests = [\"Adam\",\"Camila\",\"David\",\"Jamal\",\"Charley\",\"Titus\",\"Raj\",\"Noemi\",\"Sakira\",\"Chidi\"]\n",
    "\n",
    "print(setup_guests(guests))\n",
    "# Should print {'Adam': 0, 'Camila': 0, 'David': 0, 'Jamal': 0, 'Charley': 0, 'Titus': 0, 'Raj': 0, 'Noemi': 0, 'Sakira': 0, 'Chidi': 0}"
   ]
  },
  {
   "cell_type": "code",
   "execution_count": 2,
   "metadata": {},
   "outputs": [
    {
     "name": "stdout",
     "output_type": "stream",
     "text": [
      "{'James': 0, 'Felicity': 0, 'Barakaa': 0}\n"
     ]
    }
   ],
   "source": [
    "#update and replace values in a tuple1\n",
    "\n",
    "def setup_gradebook(old_gradebook):\n",
    "  # Use a dictionary method to create a new copy of the \"old_gradebook\".\n",
    "  new_gradebook = old_gradebook.copy()\n",
    "    # Complete the for loop to iterate over the new gradebook. \n",
    "  for student in old_gradebook:\n",
    "        # Use a dictionary operation to reset the grade values to 0.\n",
    "      new_gradebook[student] = 0\n",
    "  return new_gradebook\n",
    "\n",
    "fall_gradebook = {\"James\": 93, \"Felicity\": 98, \"Barakaa\": 80}\n",
    "print(setup_gradebook(fall_gradebook))\n",
    "# Should output {'James': 0, 'Felicity': 0, 'Barakaa': 0}\n"
   ]
  },
  {
   "cell_type": "code",
   "execution_count": 3,
   "metadata": {},
   "outputs": [
    {
     "data": {
      "text/plain": [
       "dict_values(['Aniyah Cook', 'Ines Bisset', 'Wayne Branon'])"
      ]
     },
     "execution_count": 3,
     "metadata": {},
     "output_type": "execute_result"
    }
   ],
   "source": [
    "teacher_names = {\"Math\": \"Aniyah Cook\", \"Science\": \"Ines Bisset\", \"Engineering\": \"Wayne Branon\"}\n",
    "teacher_names.values()"
   ]
  },
  {
   "cell_type": "code",
   "execution_count": null,
   "metadata": {},
   "outputs": [],
   "source": [
    "#using DicRead and adding rows to dictionary\n",
    "import os\n",
    "import csv\n",
    "\n",
    "# Create a file with data in it\n",
    "def create_file(filename):\n",
    "  with open(filename, \"w\") as file:\n",
    "    file.write(\"name,color,type\\n\")\n",
    "    file.write(\"carnation,pink,annual\\n\")\n",
    "    file.write(\"daffodil,yellow,perennial\\n\")\n",
    "    file.write(\"iris,blue,perennial\\n\")\n",
    "    file.write(\"poinsettia,red,perennial\\n\")\n",
    "    file.write(\"sunflower,yellow,annual\\n\")\n",
    "\n",
    "\n",
    "# Read the file contents and format the information about each row\n",
    "def contents_of_file(filename):\n",
    "  return_string = \"\"\n",
    "\n",
    "  # Call the function to create the file \n",
    "  create_file(filename)\n",
    "\n",
    "  # Open the file\n",
    "  with open(filename, 'r') as file:\n",
    "    # Read the rows of the file into a dictionary\n",
    "    csv_reader = csv.DictReader(file)\n",
    "    # Process each item of the dictionary\n",
    "    for row in csv_reader:\n",
    "      return_string += \"a {} {} is {}\\n\".format(row[\"color\"], row[\"name\"], row[\"type\"])\n",
    "  return return_string\n",
    "\n",
    "\n",
    "#Call the function\n",
    "print(contents_of_file(\"flowers.csv\"))"
   ]
  },
  {
   "cell_type": "code",
   "execution_count": null,
   "metadata": {},
   "outputs": [],
   "source": [
    "#without reading rows into dictionary\n",
    "import os\n",
    "import csv\n",
    "\n",
    "# Create a file with data in it\n",
    "def create_file(filename):\n",
    "  with open(filename, \"w\") as file:\n",
    "    file.write(\"name,color,type\\n\")\n",
    "    file.write(\"carnation,pink,annual\\n\")\n",
    "    file.write(\"daffodil,yellow,perennial\\n\")\n",
    "    file.write(\"iris,blue,perennial\\n\")\n",
    "    file.write(\"poinsettia,red,perennial\\n\")\n",
    "    file.write(\"sunflower,yellow,annual\\n\")\n",
    "\n",
    "# Read the file contents and format the information about each row\n",
    "def contents_of_file(filename):\n",
    "  return_string = \"\"\n",
    "\n",
    "  # Call the function to create the file \n",
    "  create_file(filename)\n",
    "\n",
    "  # Open the file\n",
    "  with open(filename, 'r') as file:\n",
    "    # Read the rows of the file\n",
    "    rows = csv.reader(file)\n",
    "    \n",
    "    # Process each row\n",
    "    for row in rows:\n",
    "      if row[0] != 'name':  # Skip the header row\n",
    "        name = row[0]\n",
    "        color = row[1]\n",
    "        plant_type = row[2]\n",
    "        \n",
    "        # Format the return string for data rows only\n",
    "        return_string += \"A {} {} is {}\\n\".format(color, name, plant_type)\n",
    "        \n",
    "  return return_string\n",
    "\n",
    "# Call the function\n",
    "print(contents_of_file(\"flowers.csv\"))\n"
   ]
  },
  {
   "cell_type": "code",
   "execution_count": 2,
   "metadata": {},
   "outputs": [],
   "source": [
    "import re\n"
   ]
  },
  {
   "cell_type": "code",
   "execution_count": 13,
   "metadata": {},
   "outputs": [
    {
     "name": "stdout",
     "output_type": "stream",
     "text": [
      "True\n",
      "False\n",
      "True\n",
      "True\n"
     ]
    }
   ],
   "source": [
    "def repeating_letter_a(text):\n",
    "  result = re.search(r\"[aA].*?[aA]\", text)\n",
    "  return result != None\n",
    "\n",
    "print(repeating_letter_a(\"banana\")) # True\n",
    "print(repeating_letter_a(\"pineapple\")) # False\n",
    "print(repeating_letter_a(\"Animal Kingdom\")) # True\n",
    "print(repeating_letter_a(\"A is for apple\")) # True\n",
    "\n"
   ]
  },
  {
   "cell_type": "code",
   "execution_count": 6,
   "metadata": {},
   "outputs": [],
   "source": [
    "from tex import latex2pdf"
   ]
  }
 ],
 "metadata": {
  "kernelspec": {
   "display_name": "Python 3",
   "language": "python",
   "name": "python3"
  },
  "language_info": {
   "codemirror_mode": {
    "name": "ipython",
    "version": 3
   },
   "file_extension": ".py",
   "mimetype": "text/x-python",
   "name": "python",
   "nbconvert_exporter": "python",
   "pygments_lexer": "ipython3",
   "version": "3.10.4"
  },
  "orig_nbformat": 4
 },
 "nbformat": 4,
 "nbformat_minor": 2
}
